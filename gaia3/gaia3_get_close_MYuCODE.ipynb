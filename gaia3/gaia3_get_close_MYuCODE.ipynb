{
 "cells": [
  {
   "cell_type": "code",
   "execution_count": null,
   "metadata": {},
   "outputs": [],
   "source": [
    "import ssl\n",
    "from astroquery.gaia import Gaia\n",
    "\n",
    "ssl._create_default_https_context = ssl._create_unverified_context\n",
    "job = Gaia.launch_job_async(\n",
    "    'SELECT*FROM gaiaedr3.gaia_source WHERE parallax>50 AND ' +\n",
    "    'phot_g_mean_mag>=12.5 AND abs(pmra)>100 AND abs(pmdec)>100')\n",
    "\n",
    "gaiat = job.get_results()\n",
    "\n",
    "#print(gaiat)"
   ]
  },
  {
   "cell_type": "code",
   "execution_count": null,
   "metadata": {},
   "outputs": [],
   "source": [
    "import ssl\n",
    "from astroquery.gaia import Gaia\n",
    "\n",
    "plx_lim = 50\n",
    "mag_lim = 12.5\n",
    "pmra_lim = 100\n",
    "pmdec_lim = 100\n",
    "\n",
    "\n",
    "ssl._create_default_https_context = ssl._create_unverified_context\n",
    "job = Gaia.launch_job_async(\n",
    "    'SELECT*FROM gaiaedr3.gaia_source WHERE parallax>{} AND phot_g_mean_mag>={} '\n",
    "    'AND abs(pmra)>{} AND abs(pmdec)>{}'.format(plx_lim, mag_lim, pmra_lim, pmdec_lim))\n",
    "\n",
    "gaiat = job.get_results()\n",
    "\n",
    "#print(gaiat)"
   ]
  },
  {
   "cell_type": "code",
   "execution_count": null,
   "metadata": {},
   "outputs": [],
   "source": [
    "import pandas as pd\n",
    "df = gaiat[['source_id', 'ref_epoch', 'ra', 'ra_error', 'dec', 'dec_error', 'pm',\n",
    "            'pmra', 'pmra_error', 'pmdec', 'pmdec_error', 'phot_g_mean_mag']].to_pandas()\n",
    "df.head()"
   ]
  },
  {
   "cell_type": "code",
   "execution_count": null,
   "metadata": {
    "scrolled": true
   },
   "outputs": [],
   "source": []
  },
  {
   "cell_type": "code",
   "execution_count": null,
   "metadata": {},
   "outputs": [],
   "source": [
    "gaiat.info()"
   ]
  },
  {
   "cell_type": "code",
   "execution_count": null,
   "metadata": {},
   "outputs": [],
   "source": [
    "type(gaiat)"
   ]
  },
  {
   "cell_type": "code",
   "execution_count": null,
   "metadata": {},
   "outputs": [],
   "source": [
    "import pandas as pd\n",
    "df = pd.DataFrame(gaiat)"
   ]
  },
  {
   "cell_type": "code",
   "execution_count": null,
   "metadata": {},
   "outputs": [],
   "source": [
    "import numpy as np\n",
    "import pandas as pd\n",
    "from astropy.table import QTable"
   ]
  },
  {
   "cell_type": "code",
   "execution_count": null,
   "metadata": {},
   "outputs": [],
   "source": []
  }
 ],
 "metadata": {
  "kernelspec": {
   "display_name": "Python 3",
   "language": "python",
   "name": "python3"
  },
  "language_info": {
   "codemirror_mode": {
    "name": "ipython",
    "version": 3
   },
   "file_extension": ".py",
   "mimetype": "text/x-python",
   "name": "python",
   "nbconvert_exporter": "python",
   "pygments_lexer": "ipython3",
   "version": "3.8.3"
  },
  "varInspector": {
   "cols": {
    "lenName": 16,
    "lenType": 16,
    "lenVar": 40
   },
   "kernels_config": {
    "python": {
     "delete_cmd_postfix": "",
     "delete_cmd_prefix": "del ",
     "library": "var_list.py",
     "varRefreshCmd": "print(var_dic_list())"
    },
    "r": {
     "delete_cmd_postfix": ") ",
     "delete_cmd_prefix": "rm(",
     "library": "var_list.r",
     "varRefreshCmd": "cat(var_dic_list()) "
    }
   },
   "types_to_exclude": [
    "module",
    "function",
    "builtin_function_or_method",
    "instance",
    "_Feature"
   ],
   "window_display": false
  }
 },
 "nbformat": 4,
 "nbformat_minor": 4
}
