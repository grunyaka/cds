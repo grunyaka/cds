{
 "cells": [
  {
   "cell_type": "code",
   "execution_count": 5,
   "metadata": {},
   "outputs": [
    {
     "name": "stdout",
     "output_type": "stream",
     "text": [
      "INFO: Query finished. [astroquery.utils.tap.core]\n"
     ]
    }
   ],
   "source": [
    "import ssl\n",
    "from astroquery.gaia import Gaia\n",
    "\n",
    "ssl._create_default_https_context = ssl._create_unverified_context\n",
    "job = Gaia.launch_job_async(\n",
    "    'SELECT*FROM gaiaedr3.gaia_source WHERE parallax>50 AND ' +\n",
    "    'phot_g_mean_mag>=12.5 AND abs(pmra)>100 AND abs(pmdec)>100')\n",
    "\n",
    "gaiat = job.get_results()\n",
    "\n",
    "#print(gaiat)"
   ]
  },
  {
   "cell_type": "code",
   "execution_count": 6,
   "metadata": {},
   "outputs": [
    {
     "name": "stdout",
     "output_type": "stream",
     "text": [
      "INFO: Query finished. [astroquery.utils.tap.core]\n",
      "    solution_id              designation          ...       ecl_lat      \n",
      "                                                  ...         deg        \n",
      "------------------- ----------------------------- ... -------------------\n",
      "1636042515805110273   Gaia EDR3 18986817760556416 ...  -7.660112389360911\n",
      "1636042515805110273 Gaia EDR3 1884744525522874880 ...   33.77746097190689\n",
      "1636042515805110273 Gaia EDR3 1575357587146077056 ...  51.601708778147284\n",
      "1636042515805110273 Gaia EDR3 5224999346778496128 ...  -63.08535684020779\n",
      "1636042515805110273 Gaia EDR3 2451701339832959232 ... -23.948415199861504\n",
      "1636042515805110273 Gaia EDR3 5673602319993218560 ...  -26.57726616973837\n",
      "1636042515805110273 Gaia EDR3 2328674716056981888 ...  -25.17457291246758\n",
      "1636042515805110273 Gaia EDR3 3602406744394215936 ... -1.8904090937219613\n",
      "1636042515805110273 Gaia EDR3 4092990622155744000 ...  3.9011988941572042\n",
      "1636042515805110273  Gaia EDR3 419121948343397888 ...   44.76123490418061\n",
      "                ...                           ... ...                 ...\n",
      "1636042515805110273 Gaia EDR3 1638979384378696704 ...   85.54684365509647\n",
      "1636042515805110273 Gaia EDR3 4293315765165489536 ...  27.149870699363337\n",
      "1636042515805110273 Gaia EDR3 5985290231327158144 ...  -30.52268983479908\n",
      "1636042515805110273 Gaia EDR3 5278042880077383040 ...  -74.58286939827988\n",
      "1636042515805110273 Gaia EDR3 1695191332232990720 ...   74.04388667479485\n",
      "1636042515805110273 Gaia EDR3 4752399493622045696 ... -59.182000604474275\n",
      "1636042515805110273 Gaia EDR3 3757613049856225792 ... -17.494289191801066\n",
      "1636042515805110273 Gaia EDR3 5393446658454453632 ...  -43.07676183721986\n",
      "1636042515805110273 Gaia EDR3 6439125097427143808 ...  -40.77682933631324\n",
      "1636042515805110273 Gaia EDR3 6412596012146801152 ...  -41.47579289570786\n",
      "Length = 552 rows\n"
     ]
    }
   ],
   "source": [
    "import ssl\n",
    "from astroquery.gaia import Gaia\n",
    "\n",
    "plx_lim = 50\n",
    "mag_lim = 12.5\n",
    "pmra_lim = 100\n",
    "pmdec_lim = 100\n",
    "\n",
    "\n",
    "ssl._create_default_https_context = ssl._create_unverified_context\n",
    "job = Gaia.launch_job_async(\n",
    "    'SELECT*FROM gaiaedr3.gaia_source WHERE parallax>{} AND phot_g_mean_mag>={} '\n",
    "    'AND abs(pmra)>{} AND abs(pmdec)>{}'.format(plx_lim, mag_lim, pmra_lim, pmdec_lim))\n",
    "\n",
    "gaiat = job.get_results()\n",
    "\n",
    "print(gaiat)"
   ]
  },
  {
   "cell_type": "code",
   "execution_count": 7,
   "metadata": {},
   "outputs": [
    {
     "name": "stdout",
     "output_type": "stream",
     "text": [
      "ref_epoch\n"
     ]
    }
   ],
   "source": [
    "for column in list(gaiat.columns):\n",
    "    if 'epoch' in column or 'time' in column or 'date' in column:\n",
    "        print(column)"
   ]
  },
  {
   "cell_type": "code",
   "execution_count": null,
   "metadata": {},
   "outputs": [],
   "source": []
  },
  {
   "cell_type": "code",
   "execution_count": null,
   "metadata": {},
   "outputs": [],
   "source": []
  }
 ],
 "metadata": {
  "kernelspec": {
   "display_name": "Python 3",
   "language": "python",
   "name": "python3"
  },
  "language_info": {
   "codemirror_mode": {
    "name": "ipython",
    "version": 3
   },
   "file_extension": ".py",
   "mimetype": "text/x-python",
   "name": "python",
   "nbconvert_exporter": "python",
   "pygments_lexer": "ipython3",
   "version": "3.8.3"
  },
  "varInspector": {
   "cols": {
    "lenName": 16,
    "lenType": 16,
    "lenVar": 40
   },
   "kernels_config": {
    "python": {
     "delete_cmd_postfix": "",
     "delete_cmd_prefix": "del ",
     "library": "var_list.py",
     "varRefreshCmd": "print(var_dic_list())"
    },
    "r": {
     "delete_cmd_postfix": ") ",
     "delete_cmd_prefix": "rm(",
     "library": "var_list.r",
     "varRefreshCmd": "cat(var_dic_list()) "
    }
   },
   "types_to_exclude": [
    "module",
    "function",
    "builtin_function_or_method",
    "instance",
    "_Feature"
   ],
   "window_display": false
  }
 },
 "nbformat": 4,
 "nbformat_minor": 4
}
