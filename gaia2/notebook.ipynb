{
 "cells": [
  {
   "cell_type": "code",
   "execution_count": 2,
   "metadata": {},
   "outputs": [],
   "source": [
    "import pandas as pd\n",
    "import numpy as np\n",
    "import os\n",
    "import healpy as hp\n",
    "from astroquery.vizier import Vizier\n",
    "import astropy.coordinates as coord\n",
    "import astropy.units as u\n"
   ]
  },
  {
   "cell_type": "code",
   "execution_count": null,
   "metadata": {},
   "outputs": [],
   "source": [
    "# df = pd.read_csv('GaiaSource-1000172165251650944-1000424567594791808.csv')\n",
    "# df.columns"
   ]
  },
  {
   "cell_type": "code",
   "execution_count": null,
   "metadata": {},
   "outputs": [],
   "source": [
    "filename = os.path.join('source','GaiaSource-my_close_stars.csv')\n",
    "df = pd.read_csv(filename)\n",
    "df.columns"
   ]
  },
  {
   "cell_type": "code",
   "execution_count": null,
   "metadata": {},
   "outputs": [],
   "source": [
    "filename = os.path.join('source','GaiaSource-my_close_stars.csv')\n",
    "df_gaia = pd.read_csv(filename)[['ra', 'ra_error', 'dec', 'dec_error','pmra', 'pmra_error', 'pmdec', 'pmdec_error','ref_epoch','phot_g_mean_mag','phot_bp_mean_mag','phot_rp_mean_mag']]\n",
    "print(df_gaia.head(10))"
   ]
  },
  {
   "cell_type": "code",
   "execution_count": null,
   "metadata": {},
   "outputs": [],
   "source": [
    "ra = Gaiadf['ra']\n",
    "dec = Gaiadf['dec']\n",
    "print(type(ra))\n",
    "print(len(ra))"
   ]
  },
  {
   "cell_type": "code",
   "execution_count": null,
   "metadata": {},
   "outputs": [],
   "source": [
    "ralist = ra.tolist()\n",
    "print(type(ralist))"
   ]
  },
  {
   "cell_type": "code",
   "execution_count": null,
   "metadata": {},
   "outputs": [],
   "source": [
    "coords = Gaiadf[['ra','dec']]\n",
    "coordarray = coords.to_numpy()\n",
    "print(type(coordarray))"
   ]
  },
  {
   "cell_type": "code",
   "execution_count": null,
   "metadata": {},
   "outputs": [],
   "source": [
    "order = 4\n",
    "NSIDE = 2**order\n",
    "NPIX = hp.nside2npix(NSIDE)\n",
    "hp_numbers = hp.ang2pix(NSIDE, Gaiadf['ra'].to_numpy(), Gaiadf['dec'].to_numpy(), lonlat=True, nest=True)\n",
    "m = np.zeros(NPIX)\n",
    "for number in hp_numbers:\n",
    "    m[number] += 1\n",
    "hp.mollview(m, title=\"Gaia DR2 close stars\", nest = True)\n",
    "hp.graticule()"
   ]
  },
  {
   "cell_type": "code",
   "execution_count": null,
   "metadata": {},
   "outputs": [],
   "source": []
  },
  {
   "cell_type": "code",
   "execution_count": null,
   "metadata": {},
   "outputs": [],
   "source": [
    "NSIDE = 512\n",
    "NPIX = hp.nside2npix(NSIDE)\n",
    "mm = np.zeros(NPIX)\n",
    "print(len(mm))\n",
    "nn = [66, 78, 87, 92, 102, 106, 111, 115, 121, 133, 138,143, 144,\\\n",
    "      147, 152, 153, 164, 165, 166, 170, 175,176, 178, 184, 187,\\\n",
    "      197, 198, 206, 209, 210, 216, 229, 231,238, 241, 263]\n",
    "for n in range(len(mm)):\n",
    "    if n%125000 == 0:\n",
    "        print(n, end=' ')\n",
    "    mm[n]= n*0.1\n",
    "\n",
    "hp.mollview(mm, title=\"Gaia DR2 close stars\")\n",
    "hp.graticule()"
   ]
  },
  {
   "cell_type": "code",
   "execution_count": null,
   "metadata": {},
   "outputs": [],
   "source": [
    "filename = os.path.join('source','vizier_votable.tsv')\n",
    "with open(filename, 'rt') as f:\n",
    "    file_content = f.read()\n",
    "lines = file_content.split('\\n')[230:-10]\n",
    "for line in lines:\n",
    "    line = line.replace(';',',')\n",
    "lines"
   ]
  },
  {
   "cell_type": "code",
   "execution_count": null,
   "metadata": {},
   "outputs": [],
   "source": [
    "filename = os.path.join('source','asu.tsv')\n",
    "skip = []\n",
    "with open(filename, 'rt') as f:\n",
    "    file_content = f.read()\n",
    "lines = file_content.split('\\n')\n",
    "n = -1\n",
    "for line in lines:\n",
    "    n +=1\n",
    "    #print(n, line)\n",
    "    if len(line)<1:\n",
    "        #print(n)\n",
    "        skip.append(n)\n",
    "        continue\n",
    "    if line[0] == '#':\n",
    "        #print(n, line)\n",
    "        skip.append(n)\n",
    "rest = len(lines) - len(skip)\n",
    "print(skip)\n",
    "print(len(lines), len(skip))\n",
    "del lines"
   ]
  },
  {
   "cell_type": "code",
   "execution_count": null,
   "metadata": {},
   "outputs": [],
   "source": [
    "if rest > 0:\n",
    "    dfVizier = pd.read_csv(filename,skiprows=skip,sep=';')\n",
    "    dfVizier.head()\n",
    "else:\n",
    "    print('no rows available')"
   ]
  },
  {
   "cell_type": "code",
   "execution_count": null,
   "metadata": {},
   "outputs": [],
   "source": [
    "'ra', 'dec', 'ra_error', 'dec_error','ref_epoch','phot_g_mean_mag'\n",
    "'CMC15','RA_ICRS','DE_ICRS','e_RA_ICRS','e_DE_ICRS','MJD-51263','Jmag'\n",
    "'Pan-STARRS DR1','RAJ2000', 'DEJ2000', 'e_RAJ2000', 'e_DEJ2000', 'Epoch', 'gmag'\n",
    "'2MASS All-Sky','RAJ2000', 'DEJ2000', 'errMaj', 'errMin', '_tab1_36', 'Jmag'\n",
    "'SDSS DR12','RA_ICRS', 'DE_ICRS', 'e_RA_ICRS', 'e_RA_ICRS', 'ObsDate', 'gmag\n",
    "'URAT1','RAJ2000', 'DEJ2000', 'sigs', 'sigm', 'Epoch', 'gmag'\n",
    "'UCAC4','RAJ2000', 'DEJ2000', 'e_RAJ2000', 'e_DEJ2000', 'EpRA', 'gmag'"
   ]
  },
  {
   "cell_type": "code",
   "execution_count": null,
   "metadata": {},
   "outputs": [],
   "source": [
    "df_info = pd.read_csv('cat_info.csv')\n",
    "df_info"
   ]
  },
  {
   "cell_type": "code",
   "execution_count": null,
   "metadata": {},
   "outputs": [],
   "source": [
    "df_info.index"
   ]
  },
  {
   "cell_type": "code",
   "execution_count": null,
   "metadata": {
    "scrolled": true
   },
   "outputs": [],
   "source": [
    "df_info.columns"
   ]
  },
  {
   "cell_type": "code",
   "execution_count": null,
   "metadata": {},
   "outputs": [],
   "source": [
    "df_info.iloc[0].tolist()"
   ]
  },
  {
   "cell_type": "code",
   "execution_count": null,
   "metadata": {},
   "outputs": [],
   "source": [
    "df_info.loc['CMC15']['link']"
   ]
  },
  {
   "cell_type": "code",
   "execution_count": null,
   "metadata": {},
   "outputs": [],
   "source": [
    "df_info.loc['CMC15'].tolist()[:-2]"
   ]
  },
  {
   "cell_type": "code",
   "execution_count": null,
   "metadata": {},
   "outputs": [],
   "source": [
    "df_info.ra"
   ]
  },
  {
   "cell_type": "code",
   "execution_count": null,
   "metadata": {},
   "outputs": [],
   "source": [
    "df_info.ra.tolist()"
   ]
  },
  {
   "cell_type": "code",
   "execution_count": null,
   "metadata": {},
   "outputs": [],
   "source": [
    "import pandas as pd\n",
    "from astroquery.vizier import Vizier\n",
    "import astropy.coordinates as coord\n",
    "import astropy.units as u\n",
    "\n",
    "ra, dec, rad = 15.1, 12.2, 100\n",
    "viz = Vizier(columns=[\"*\", \"+_r\"])\n",
    "res = viz.query_region(coord.SkyCoord(ra=ra, dec=dec, unit=(u.deg, u.deg), frame='icrs'),\n",
    "                    radius=rad*u.arcsec, catalog='I/345/gaia2')\n",
    "res['I/345/gaia2']\n",
    "type(res)\n",
    "t = res['I/345/gaia2']\n",
    "type(t)\n",
    "#df_from_array = pd.DataFrame.from_records(t.as_array())\n",
    "#df_from_table_method = t.to_pandas()\n",
    "#assert (df_from_array == df_from_table_method).values.ravel().all()"
   ]
  },
  {
   "cell_type": "code",
   "execution_count": null,
   "metadata": {},
   "outputs": [],
   "source": [
    "type(t)"
   ]
  },
  {
   "cell_type": "code",
   "execution_count": null,
   "metadata": {},
   "outputs": [],
   "source": [
    "t"
   ]
  },
  {
   "cell_type": "code",
   "execution_count": null,
   "metadata": {},
   "outputs": [],
   "source": [
    "df_from_array = pd.DataFrame.from_records(t.as_array())\n",
    "df_from_array"
   ]
  },
  {
   "cell_type": "code",
   "execution_count": null,
   "metadata": {},
   "outputs": [],
   "source": [
    "gaia_ra = df_gaia['ra'].tolist()\n",
    "gaia_dec = df_gaia['dec'].tolist()\n",
    "gaia_gmag = df_gaia['phot_g_mean_mag'].tolist()\n",
    "gaia_bpmag = df_gaia['phot_bp_mean_mag'].tolist()\n",
    "gaia_rpmag = df_gaia['phot_rp_mean_mag'].tolist()"
   ]
  },
  {
   "cell_type": "code",
   "execution_count": null,
   "metadata": {},
   "outputs": [],
   "source": [
    "link = df_info.link.iloc[0]\n",
    "catalogue = df_info.index.tolist()[0]"
   ]
  },
  {
   "cell_type": "code",
   "execution_count": null,
   "metadata": {},
   "outputs": [],
   "source": [
    "def CatDataFrame(ra, dec, radsec, catalogue):\n",
    "    df_info = pd.read_csv('cat_info.csv')\n",
    "    link = df_info.loc[catalogue]['link']\n",
    "    try:\n",
    "        viz = Vizier(columns=['all'])\n",
    "        table = viz.query_region(coord.SkyCoord(ra=ra, dec=dec, unit=(u.deg, u.deg), frame='icrs'),\n",
    "                            radius=radsec*u.arcsec, catalog=link)[0]\n",
    "        t = pd.DataFrame.from_records(table.as_array())[df_info.loc[catalogue].tolist()[:-2]]\n",
    "        return t\n",
    "    except Exception as e:\n",
    "        print(e)\n",
    "     #   t = 'NuN'\n",
    "    #return t"
   ]
  },
  {
   "cell_type": "code",
   "execution_count": null,
   "metadata": {},
   "outputs": [],
   "source": [
    "t = CatDataFrame(65.40019016727416, -27.04609316054017, 10, 'CMC15')\n",
    "t"
   ]
  },
  {
   "cell_type": "code",
   "execution_count": null,
   "metadata": {},
   "outputs": [],
   "source": [
    "ra, dec, radsec, catalogue = 65.40019016727416, -27.04609316054017, 10, 'Pan-STARRS DR1'\n",
    "df_info = pd.read_csv('cat_info.csv')\n",
    "link = df_info.loc[catalogue]['link']\n",
    "try:\n",
    "    viz = Vizier(columns=['all'])\n",
    "    table = viz.query_region(coord.SkyCoord(ra=ra, dec=dec, unit=(u.deg, u.deg), frame='icrs'),\n",
    "                        radius=radsec*u.arcsec, catalog=link)[0]\n",
    "    df_table = pd.DataFrame.from_records(table.as_array())\n",
    "    t = df_table[['_r'] + df_info.loc[catalogue].tolist()[:-2]]\n",
    "    #tt = df_table[[]]\n",
    "    #return t\n",
    "    print(t.head())\n",
    "    #print(t.columns)\n",
    "except Exception as e:\n",
    "    print(e)"
   ]
  },
  {
   "cell_type": "code",
   "execution_count": null,
   "metadata": {},
   "outputs": [],
   "source": [
    "list = ['_r'] + df_info.loc[catalogue].tolist()[:-2]\n",
    "list"
   ]
  },
  {
   "cell_type": "code",
   "execution_count": null,
   "metadata": {},
   "outputs": [],
   "source": [
    "s = pd.Series ({'a,b,c,d,e,f,g'.split(',')[i]: [1,2,3,4,5,6,7][i] for i in range(7)})\n",
    "s"
   ]
  },
  {
   "cell_type": "code",
   "execution_count": null,
   "metadata": {},
   "outputs": [],
   "source": [
    "df2 = pd.DataFrame(np.array([[1, 2, 3], [4, 5, 6], [7, 8, 9]]),\n",
    "                   columns=['a', 'b', 'c'], index=['x', 'y', 'z'])\n",
    "df2"
   ]
  },
  {
   "cell_type": "code",
   "execution_count": null,
   "metadata": {},
   "outputs": [],
   "source": []
  },
  {
   "cell_type": "code",
   "execution_count": null,
   "metadata": {},
   "outputs": [],
   "source": [
    "def function(s):\n",
    "    s['b'] = s['c']\n",
    "    return s"
   ]
  },
  {
   "cell_type": "code",
   "execution_count": null,
   "metadata": {},
   "outputs": [],
   "source": [
    "df2.apply(function, axis = 1)#['b']=(r['c']+r['b'])/2)#, axis = 1)"
   ]
  },
  {
   "cell_type": "code",
   "execution_count": 3,
   "metadata": {},
   "outputs": [],
   "source": [
    "df = pd.DataFrame({'A': [1, 1, 2, 1, 2],\n",
    "                   'B': [np.nan, 2, 3, 4, 5],\n",
    "                   'C': [1, 2, 1, 1, 2]}, columns=['A', 'B', 'C'])"
   ]
  },
  {
   "cell_type": "code",
   "execution_count": 4,
   "metadata": {},
   "outputs": [
    {
     "data": {
      "text/html": [
       "<div>\n",
       "<style scoped>\n",
       "    .dataframe tbody tr th:only-of-type {\n",
       "        vertical-align: middle;\n",
       "    }\n",
       "\n",
       "    .dataframe tbody tr th {\n",
       "        vertical-align: top;\n",
       "    }\n",
       "\n",
       "    .dataframe thead th {\n",
       "        text-align: right;\n",
       "    }\n",
       "</style>\n",
       "<table border=\"1\" class=\"dataframe\">\n",
       "  <thead>\n",
       "    <tr style=\"text-align: right;\">\n",
       "      <th></th>\n",
       "      <th>A</th>\n",
       "      <th>B</th>\n",
       "      <th>C</th>\n",
       "    </tr>\n",
       "  </thead>\n",
       "  <tbody>\n",
       "    <tr>\n",
       "      <th>0</th>\n",
       "      <td>1</td>\n",
       "      <td>NaN</td>\n",
       "      <td>1</td>\n",
       "    </tr>\n",
       "    <tr>\n",
       "      <th>1</th>\n",
       "      <td>1</td>\n",
       "      <td>2.0</td>\n",
       "      <td>2</td>\n",
       "    </tr>\n",
       "    <tr>\n",
       "      <th>2</th>\n",
       "      <td>2</td>\n",
       "      <td>3.0</td>\n",
       "      <td>1</td>\n",
       "    </tr>\n",
       "    <tr>\n",
       "      <th>3</th>\n",
       "      <td>1</td>\n",
       "      <td>4.0</td>\n",
       "      <td>1</td>\n",
       "    </tr>\n",
       "    <tr>\n",
       "      <th>4</th>\n",
       "      <td>2</td>\n",
       "      <td>5.0</td>\n",
       "      <td>2</td>\n",
       "    </tr>\n",
       "  </tbody>\n",
       "</table>\n",
       "</div>"
      ],
      "text/plain": [
       "   A    B  C\n",
       "0  1  NaN  1\n",
       "1  1  2.0  2\n",
       "2  2  3.0  1\n",
       "3  1  4.0  1\n",
       "4  2  5.0  2"
      ]
     },
     "execution_count": 4,
     "metadata": {},
     "output_type": "execute_result"
    }
   ],
   "source": [
    "df"
   ]
  },
  {
   "cell_type": "code",
   "execution_count": null,
   "metadata": {},
   "outputs": [],
   "source": []
  }
 ],
 "metadata": {
  "kernelspec": {
   "display_name": "Python 3",
   "language": "python",
   "name": "python3"
  },
  "language_info": {
   "codemirror_mode": {
    "name": "ipython",
    "version": 3
   },
   "file_extension": ".py",
   "mimetype": "text/x-python",
   "name": "python",
   "nbconvert_exporter": "python",
   "pygments_lexer": "ipython3",
   "version": "3.7.3"
  }
 },
 "nbformat": 4,
 "nbformat_minor": 2
}
